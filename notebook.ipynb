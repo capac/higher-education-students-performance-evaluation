{
 "cells": [
  {
   "cell_type": "code",
   "execution_count": 1,
   "id": "985e21a3-4674-4499-b14f-fef3a2a6633f",
   "metadata": {},
   "outputs": [],
   "source": [
    "import json\n",
    "import numpy as np\n",
    "import pandas as pd\n",
    "from pathlib import Path\n",
    "from sklearn.preprocessing import OneHotEncoder\n",
    "from sklearn.linear_model import LogisticRegression\n",
    "from sklearn.tree import DecisionTreeClassifier\n",
    "from sklearn.ensemble import RandomForestClassifier\n",
    "from sklearn.linear_model import SGDClassifier\n",
    "from sklearn.svm import SVC\n",
    "from xgboost import XGBClassifier\n",
    "import mlflow"
   ]
  },
  {
   "cell_type": "code",
   "execution_count": 2,
   "id": "8463e4c8-1978-43df-b256-4d305000f284",
   "metadata": {},
   "outputs": [],
   "source": [
    "work_dir = Path.home() / 'Programming/Python/machine-learning-exercises/higher-education-students-performance-evaluation'\n",
    "data_file = work_dir / 'data/students-performance.csv'\n",
    "attribute_names_json_file = work_dir / 'attribute_names.json'"
   ]
  },
  {
   "cell_type": "code",
   "execution_count": 3,
   "id": "1b1a5783-b216-41b6-bec1-de14e99cc314",
   "metadata": {},
   "outputs": [],
   "source": [
    "sp_df = pd.read_csv(data_file)"
   ]
  },
  {
   "cell_type": "code",
   "execution_count": 4,
   "id": "cfc3cd75-7151-4de7-9236-ff8868765362",
   "metadata": {},
   "outputs": [],
   "source": [
    "mlflow.set_tracking_uri('sqlite:///mlflow.db')\n",
    "mlflow.set_experiment('higher-education-students-performance-evaluation');"
   ]
  },
  {
   "cell_type": "code",
   "execution_count": 5,
   "id": "1fad3a2a-8bbe-4b51-bf36-cd0c20351ef6",
   "metadata": {},
   "outputs": [],
   "source": [
    "with open(attribute_names_json_file, 'rt') as f_in:\n",
    "    attribute_names_json = json.load(f_in)"
   ]
  },
  {
   "cell_type": "code",
   "execution_count": null,
   "id": "55d8a797-d9d9-40a7-b09a-6d1a4d55487f",
   "metadata": {},
   "outputs": [],
   "source": []
  }
 ],
 "metadata": {
  "kernelspec": {
   "display_name": "Python 3 (ipykernel)",
   "language": "python",
   "name": "python3"
  },
  "language_info": {
   "codemirror_mode": {
    "name": "ipython",
    "version": 3
   },
   "file_extension": ".py",
   "mimetype": "text/x-python",
   "name": "python",
   "nbconvert_exporter": "python",
   "pygments_lexer": "ipython3",
   "version": "3.9.23"
  }
 },
 "nbformat": 4,
 "nbformat_minor": 5
}
