{
 "cells": [
  {
   "cell_type": "code",
   "execution_count": 1,
   "id": "985e21a3-4674-4499-b14f-fef3a2a6633f",
   "metadata": {},
   "outputs": [],
   "source": [
    "import json\n",
    "import numpy as np\n",
    "import pandas as pd\n",
    "from pathlib import Path\n",
    "from sklearn.pipeline import make_pipeline\n",
    "from sklearn.compose import ColumnTransformer\n",
    "from sklearn.preprocessing import OneHotEncoder\n",
    "from sklearn.model_selection import train_test_split\n",
    "from sklearn.linear_model import LogisticRegression\n",
    "from sklearn.tree import DecisionTreeClassifier\n",
    "from sklearn.ensemble import RandomForestClassifier\n",
    "from sklearn.linear_model import SGDClassifier\n",
    "from sklearn.svm import SVC\n",
    "from xgboost import XGBClassifier\n",
    "from sklearn.metrics import accuracy_score\n",
    "import mlflow"
   ]
  },
  {
   "cell_type": "code",
   "execution_count": 2,
   "id": "8463e4c8-1978-43df-b256-4d305000f284",
   "metadata": {},
   "outputs": [],
   "source": [
    "work_dir = Path.home() / 'Programming/Python/machine-learning-exercises/higher-education-students-performance-evaluation'\n",
    "data_file = work_dir / 'data/students-performance.csv'\n",
    "attribute_names_json_file = work_dir / 'attribute_names.json'"
   ]
  },
  {
   "cell_type": "code",
   "execution_count": 3,
   "id": "1fad3a2a-8bbe-4b51-bf36-cd0c20351ef6",
   "metadata": {},
   "outputs": [],
   "source": [
    "with open(attribute_names_json_file, 'rt') as f_in:\n",
    "    attribute_names_json = json.load(f_in)"
   ]
  },
  {
   "cell_type": "code",
   "execution_count": 4,
   "id": "1b1a5783-b216-41b6-bec1-de14e99cc314",
   "metadata": {},
   "outputs": [],
   "source": [
    "sp_df = pd.read_csv(data_file)\n",
    "cat_attribs = sp_df.columns[1:-1]"
   ]
  },
  {
   "cell_type": "code",
   "execution_count": 5,
   "id": "cfc3cd75-7151-4de7-9236-ff8868765362",
   "metadata": {},
   "outputs": [],
   "source": [
    "mlflow.set_tracking_uri('sqlite:///mlflow.db')\n",
    "mlflow.set_experiment('higher-education-students-performance-evaluation');"
   ]
  },
  {
   "cell_type": "code",
   "execution_count": 6,
   "id": "333ef31e-8fcd-46e9-9164-680db2279b67",
   "metadata": {},
   "outputs": [],
   "source": [
    "X = sp_df.drop(['STUDENT ID', 'GRADE'], axis=1)\n",
    "y = sp_df['GRADE'].copy()"
   ]
  },
  {
   "cell_type": "code",
   "execution_count": 7,
   "id": "122c2ff7-c074-4125-9e26-4404f26f5e55",
   "metadata": {},
   "outputs": [],
   "source": [
    "X_train, X_test, y_train, y_test = train_test_split(X, y, test_size=0.3, stratify=y, random_state=33)"
   ]
  },
  {
   "cell_type": "code",
   "execution_count": 8,
   "id": "5c8d4a89-0546-43e3-8010-5af88ae85a73",
   "metadata": {},
   "outputs": [],
   "source": [
    "X_train = X_train.reset_index(drop=True)\n",
    "X_test = X_test.reset_index(drop=True)\n",
    "y_train = y_train.reset_index(drop=True)\n",
    "y_test = y_test.reset_index(drop=True)"
   ]
  },
  {
   "cell_type": "code",
   "execution_count": 9,
   "id": "5182094c-3b1a-4741-abc9-6855456d41e7",
   "metadata": {},
   "outputs": [],
   "source": [
    "cat_pipeline = make_pipeline(OneHotEncoder(handle_unknown=\"ignore\"))\n",
    "preprocessing = ColumnTransformer([(\"cat\", cat_pipeline, cat_attribs)])"
   ]
  },
  {
   "cell_type": "code",
   "execution_count": 10,
   "id": "f74bf544-4f36-4fae-a28a-eedcd57968c0",
   "metadata": {},
   "outputs": [],
   "source": [
    "transformed_X_train = preprocessing.fit_transform(X_train)\n",
    "transformed_X_test = preprocessing.transform(X_test)"
   ]
  },
  {
   "cell_type": "code",
   "execution_count": 11,
   "id": "a6ee65d0-f1ac-411f-9fb7-eefce9b37b88",
   "metadata": {},
   "outputs": [],
   "source": [
    "# dtc = DecisionTreeClassifier()\n",
    "# rfc = RandomForestClassifier()\n",
    "# sgc = SGDClassifier()\n",
    "# svc = SVC()\n",
    "# xbgc = XGBClassifier()"
   ]
  },
  {
   "cell_type": "code",
   "execution_count": 12,
   "id": "55d8a797-d9d9-40a7-b09a-6d1a4d55487f",
   "metadata": {},
   "outputs": [],
   "source": [
    "with mlflow.start_run():\n",
    "\n",
    "    mlflow.set_tag('developer', 'angelo')\n",
    "\n",
    "    C = 0.01\n",
    "    mlflow.log_param('C', C)\n",
    "\n",
    "    log_reg = LogisticRegression(C=C)\n",
    "    log_reg.fit(transformed_X_train, y_train)\n",
    "    y_pred = log_reg.predict(transformed_X_test)\n",
    "\n",
    "    acc = accuracy_score(y_pred, y_test)\n",
    "    mlflow.log_metric('accuracy', acc)"
   ]
  },
  {
   "cell_type": "code",
   "execution_count": null,
   "id": "546ab5b5-39cc-47d8-a14c-7e3e091b75a5",
   "metadata": {},
   "outputs": [],
   "source": []
  }
 ],
 "metadata": {
  "kernelspec": {
   "display_name": "Python 3 (ipykernel)",
   "language": "python",
   "name": "python3"
  },
  "language_info": {
   "codemirror_mode": {
    "name": "ipython",
    "version": 3
   },
   "file_extension": ".py",
   "mimetype": "text/x-python",
   "name": "python",
   "nbconvert_exporter": "python",
   "pygments_lexer": "ipython3",
   "version": "3.9.23"
  }
 },
 "nbformat": 4,
 "nbformat_minor": 5
}
